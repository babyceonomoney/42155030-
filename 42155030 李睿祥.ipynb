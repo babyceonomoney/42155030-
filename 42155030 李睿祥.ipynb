{
 "cells": [
  {
   "cell_type": "code",
   "execution_count": 1,
   "id": "f19bf5cf",
   "metadata": {},
   "outputs": [],
   "source": [
    " def getParentIndex(i): # Get the index of the parent\n",
    "    if i == 0:\n",
    "        return None\n",
    "    return int((i-1)/2)\n",
    "    \n",
    "def getLeftChildIndex(i): # Get the index of the left child\n",
    "    return 2*i+1\n",
    "    \n",
    "def getRightChildIndex(i): # Get the index of the right child\n",
    "    return 2*i+2\n"
   ]
  },
  {
   "cell_type": "code",
   "execution_count": 2,
   "id": "1f6b305b",
   "metadata": {},
   "outputs": [],
   "source": [
    "def insert(self, x): # Insert new element\n",
    "  # Place x at the end of the heap\n",
    "  self.n += 1\n",
    "  if self.n == len(self.heap):\n",
    "      self.heap.append(x)\n",
    "  else:\n",
    "      self.heap[self.n] = x\n",
    "  # Adjusting heap\n",
    "  self.siftup(self.n-1)\n",
    "\n",
    "def siftup(self, index): # Adjust the heap up\n",
    "  while index > 0 and self.heap[index] < self.heap[getParentIndex(index)]:\n",
    "      self.heap[index], self.heap[getParentIndex(index)] = self.heap[getParentIndex(index)], self.heap[index]\n",
    "      index = getParentIndex(index)\n",
    "def delMin(self): # Remove the smallest element\n",
    "  if self.n == 0:\n",
    "    return # Can't delete\n",
    "  root_data = self.heap[0]\n",
    "  self.heap[0] = self.heap[self.n-1]\n",
    "  self.n -= 1\n",
    "  self.siftdown(0)\n",
    "  return root_data\n",
    "\n",
    "def siftdown(self, index): # Adjust the heap downward\n",
    "  left = getLeftChildIndex(index)\n",
    "  right = getRightChildIndex(index)\n",
    "  smallest = index\n",
    "  #compare with leftchild\n",
    "  if left < self.n and self.heap[left] < self.heap[index]:\n",
    "      smallest = left\n",
    "  #compare with right child\n",
    "  if right < self.n and self.heap[right] < self.heap[smallest]:\n",
    "      smallest = right\n",
    "  if smallest != index:\n",
    "      self.heap[index], self.heap[smallest] = self.heap[smallest], self.heap[index]\n",
    "      self.siftdown(smallest)"
   ]
  },
  {
   "cell_type": "code",
   "execution_count": null,
   "id": "b1e595f5",
   "metadata": {},
   "outputs": [],
   "source": []
  }
 ],
 "metadata": {
  "kernelspec": {
   "display_name": "Python 3 (ipykernel)",
   "language": "python",
   "name": "python3"
  },
  "language_info": {
   "codemirror_mode": {
    "name": "ipython",
    "version": 3
   },
   "file_extension": ".py",
   "mimetype": "text/x-python",
   "name": "python",
   "nbconvert_exporter": "python",
   "pygments_lexer": "ipython3",
   "version": "3.9.7"
  }
 },
 "nbformat": 4,
 "nbformat_minor": 5
}
